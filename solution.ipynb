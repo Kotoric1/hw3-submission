{
 "cells": [
  {
   "cell_type": "markdown",
   "id": "29dbb74b",
   "metadata": {},
   "source": [
    "# CS 506 Spring 2021 - HW3\n",
    "## Social Networks and Recommendataion Systems\n",
    "#### Total: 25 Points\n",
    "\n",
    "##### Package Limitations: None\n",
    "\n",
    "### Name:Yufan Lin\n",
    "### BU ID:U16678507\n",
    "### BU Email:eric1025@bu.edu\n",
    "#### People you worked with on this hw:\n",
    "\n",
    "### 1. Background\n",
    "\n",
    "In this homework, you will try to recommend new collaborations to researchers of the Machine Learning community. Our approach will follow the guidelines of collaborative filtering: “**If your past behavior/preferences were similar to some other user’s, your future behavior may be as well**”. As an example, imagine you like Rolling Stones, Beatles and Jimmy Hendrix. It turns out that most people that like the aforementioned artists, are also fans of Eric Clapton. Then, it is very likely that if you listen to Eric Clapton’s music, you will like it as well.\n",
    "\n",
    "In this assignment you will implement a **collaborative filtering recommendation system** for suggesting new collaborations to Machine Learning researchers.\n",
    "\n",
    "**A network as a graph**: A graph or network represents relationships among different entities (users of a social network, researchers, products, etc.). Those entities are represented as nodes and the relationships between them (friends on Facebook, co-authors of a research paper, products purchased together) as edges. When there is an edge between two nodes, x and y, we say that y is a neighbor (or friend) of x (and also - as the graphs we consider are undirected - x is also a neighbor of y).\n",
    "\n",
    "**Representing a graph in Python**: A widely used library in Python, for representing graphs is [NetworkX](https://networkx.github.io/documentation/stable/). You can read the documentation for more information on how to use this library."
   ]
  },
  {
   "cell_type": "markdown",
   "id": "b99c8f6e",
   "metadata": {},
   "source": [
    "### 2. Recommend new collaborations - The ML Community case \n",
    "\n",
    "In order to provide new collaborations and test the efficiency of the methods used, you are given two files (you can find them on piazza):\n",
    "\n",
    "- ”old edges.txt”: In this file, every line contains the names of two re- searchers that have co-authored a paper in one of the top Machine Learn- ing conferences (NeurIPS, ICLR, ICML) between 2010 and 2016.\n",
    "- ”new edges.txt”: In this file, every line contains the names of two re- searchers (from those existing in the above file) that formed a new (non- existing before) collaboration, in either 2017 and 2018.\n",
    "\n",
    "With the first file in hand, you will answer the following question:\n",
    "“For author X, list some non-collaborators in order, starting with the best col- laborator recommendation and ending with the worst”. A non-friend is a user who is not X and is not a collaborator of X. Depending on the recommendation algorithm you are going to choose, the list may include all non-collaborators or some of them.\n",
    "\n",
    "Then, using the second file, with actual new collaborations formed in the next 3 years, you will test the efficiency of these algorithms.\n"
   ]
  },
  {
   "cell_type": "markdown",
   "id": "aba1cc9d",
   "metadata": {},
   "source": [
    "### Tasks\n",
    "a) [3 pts.] Write a function that reads the file “old edges.txt” and create a graph using NetworkX. (This is a tab-separated value (TSV) file, you may use packages such as Pandas to read it. )\n"
   ]
  },
  {
   "cell_type": "code",
   "execution_count": 21,
   "id": "8a496fac",
   "metadata": {},
   "outputs": [
    {
     "data": {
      "image/png": "[encoded data removed]",
      "text/plain": [
       "<Figure size 432x288 with 1 Axes>"
      ]
     },
     "metadata": {},
     "output_type": "display_data"
    }
   ],
   "source": [
    "# You can add functions, inputs outputs to existing functions. \n",
    "# Please do NOT change name of the existing functions\n",
    "\n",
    "from typing import Tuple, List, Dict, Callable\n",
    "import networkx as nx\n",
    "import pandas as pd\n",
    "import numpy as np\n",
    "import matplotlib.pyplot as plt\n",
    "\n",
    "def read_old_edges(file_path: str):\n",
    "    \"\"\"\n",
    "    read old edges text file and return a NetworkX graph\n",
    "    \n",
    "    :param file_path: string file path to old_edges.txt\n",
    "    :return: g: the nx graph, old_graph_authors: the authors in the file \n",
    "    \"\"\"\n",
    "    data=pd.read_table(file_path,sep='\\t')              #read the file and seperate values by tab\n",
    "    data=np.array(data)\n",
    "    # print(data[1])\n",
    "    # print(np.shape(data))\n",
    "    old_graph_authors=np.unique(data)                             #find the authors(nodes)\n",
    "    relationship=[]\n",
    "    for i in range(len(data)):                              #find the relationship(edges)\n",
    "        relationship.append([data[i][0],data[i][1]])\n",
    "    # print(len(unique_data))\n",
    "    # print(len(relationship))\n",
    "    g=nx.Graph()                                                #draw the nx graph\n",
    "    g.add_nodes_from(old_graph_authors)\n",
    "    g.add_edges_from(relationship)\n",
    "    nx.draw(g)\n",
    "    plt.show()  \n",
    "    return g,old_graph_authors                                          #return the authors\n",
    "\n",
    "old_graph,old_graph_authors=read_old_edges(file_path='C:/Users/dell/Desktop/cs506hw3/homework-3-Kotoric1-main/old_edges.txt')\n",
    "    "
   ]
  },
  {
   "cell_type": "markdown",
   "id": "1b6c0d09",
   "metadata": {},
   "source": [
    "b) [3 pts.] Write a function that reads the file “new edges.txt” and for each author, keeps track of the new collaborations this user formed during 2017-2018.\n"
   ]
  },
  {
   "cell_type": "code",
   "execution_count": 2,
   "id": "31104b22",
   "metadata": {},
   "outputs": [],
   "source": [
    "def read_new_edges(file_path: str):\n",
    "    \"\"\"\n",
    "    read new edges text file\n",
    "    \n",
    "    :param file_path: string file path to new_edges.txt\n",
    "    :return: G: the nx graph, new_graph_authors: the authors in the file \n",
    "    \"\"\"\n",
    "    data=pd.read_table(file_path,sep='\\t')              #similar to question a using pd.read_table\n",
    "    data=np.array(data)\n",
    "    # print(np.shape(data))\n",
    "    new_graph_authors=np.unique(data)                   \n",
    "    relationship=[]\n",
    "    for i in range(len(data)):                          #get the relatinship(edges)\n",
    "        relationship.append([data[i][0],data[i][1]])\n",
    "    # print(len(unique_data))\n",
    "    # print(len(relationship))\n",
    "    G=nx.Graph()                                        #plot the nx graph\n",
    "    G.add_nodes_from(new_graph_authors)\n",
    "    G.add_edges_from(relationship)\n",
    "    nx.draw(G)\n",
    "    plt.show()\n",
    "    return G,new_graph_authors                      #return the nx graph and the authors for testing question c\n",
    "\n",
    "    "
   ]
  },
  {
   "cell_type": "code",
   "execution_count": 3,
   "id": "5ae470f4",
   "metadata": {},
   "outputs": [
    {
     "data": {
      "image/png": "[encoded data removed]",
      "text/plain": [
       "<Figure size 432x288 with 1 Axes>"
      ]
     },
     "metadata": {},
     "output_type": "display_data"
    }
   ],
   "source": [
    "new_graph,new_graph_authors=read_new_edges(file_path='C:/Users/dell/Desktop/cs506hw3/homework-3-Kotoric1-main/new_edges.txt')"
   ]
  },
  {
   "cell_type": "markdown",
   "id": "ddf64a48",
   "metadata": {},
   "source": [
    "In 2017 and 2018, there were 1,757 new edges formed between existing authors. For the next tasks, pick (and recommend new collaborations for) those authors that formed at least 10 new connections between 2017-2018. In the remaining, when we talk about author X, we refer to one of those authors.\n",
    "\n",
    "c) [5 pts.] **Recommend by number of common friends**\n",
    "\n",
    "The intuition behind this recommendation algorithm is that if non-friend Y is your friend’s friend, then maybe Y should be your friend too. If person Y is the friend of many of your friends, then Y is an even better recommendation. "
   ]
  },
  {
   "cell_type": "code",
   "execution_count": 18,
   "id": "df0999f9",
   "metadata": {},
   "outputs": [
    {
     "name": "stdout",
     "output_type": "stream",
     "text": [
      "['Ryan P. Adams', 'Yuhuai Wu', 'Raquel Urtasun', 'Sanja Fidler', 'Nebojsa Jojic', 'Brendan J. Frey', 'Roland Memisevic', 'Zhouhan Lin', 'Jasper Snoek', 'Antonio Torralba 0001']\n"
     ]
    }
   ],
   "source": [
    "def common_friends_number(graph: nx.Graph, author,authors) -> List[str]:\n",
    "    \"\"\"\n",
    "    Return list of authors who have a common neighbor as \n",
    "    given author sorted by number of common friends. \n",
    "    \n",
    "    :param graph: collaboration graph in nextworkX, author: given author to find it's common neighbors; authors:list of authors\n",
    "    :return: list of new collaborators' name to recommend\n",
    "    \"\"\"\n",
    "    edges_list=nx.to_dict_of_lists(graph)                       #convert the nx graph to dict to get the edges\n",
    "    # print(len(edges_list))\n",
    "    # print(edges_list[author])\n",
    "    collarborators=np.array(edges_list[author])                 #find the exist collaborators fo the given author\n",
    "    count_list=[]\n",
    "    other_authors=[]\n",
    "    # print(len(authors))\n",
    "    for i in authors:                                               #delete the author and his collaborators from the author list\n",
    "        if(i != author and i not in collarborators):\n",
    "            other_authors.append(i)\n",
    "    # print(len(other_authors))\n",
    "    # print(other_authors[0])   \n",
    "    for i in other_authors:                                         #count the number of common friends for each other author in the author list\n",
    "        count=0         \n",
    "        for j in collarborators:\n",
    "            if(j in np.array(edges_list[i])):\n",
    "                count=count+1\n",
    "        count_list.append(count)\n",
    "    # print(count_list)\n",
    "    # print(other_authors[count_list.index(max(count_list))])\n",
    "    other_author_df=pd.DataFrame()                                          # create a new df to store the authors and their recommendation level(number of close friends)\n",
    "    other_author_df['author']=other_authors\n",
    "    other_author_df['recommendation']=count_list\n",
    "    other_author_df.sort_values(by=\"recommendation\" , inplace=True, ascending=False)            #sort it with descending order\n",
    "    sorted_authors=list(other_author_df['author'])\n",
    "    # print(len(sorted_authors))\n",
    "    # print(other_author_df)\n",
    "    return sorted_authors                                                                                #return the sorted new collaborators\n",
    "\n",
    "new_collaborators=common_friends_number(graph=old_graph,author='Aaron C. Courville',authors=old_graph_authors)    \n",
    "print(new_collaborators[:10])"
   ]
  },
  {
   "cell_type": "markdown",
   "id": "1b45f70d",
   "metadata": {},
   "source": [
    "d) [5 pts.] **Make recommendations using Jaccard’s Index**\n",
    "\n",
    "If Γ(X) is the set of neighbors of X, then the metric we used in part (c), assigns to a non-friend y, the following recommendation score (with respect to X): score(y) = |Γ(X)∩Γ(y)|. Jaccard’s Index scales this score by taking into account the union of X and Y ’s neighbors. Intuitively, X and Y are more similar, if what they have in common is as close as possible to what they have together.\n"
   ]
  },
  {
   "cell_type": "code",
   "execution_count": 19,
   "id": "c9085833",
   "metadata": {},
   "outputs": [
    {
     "name": "stdout",
     "output_type": "stream",
     "text": [
      "['Wicher Bergsma', 'Maria Lomeli Garcia', 'Samuel Livingstone', 'Christophe Andrieu', 'Heiko Strathmann', 'Jovana Mitrovic', 'Martin Azizyan', 'James Sharpnack', 'Yevgeniy Vorobeychik', 'Bo Li 0026']\n"
     ]
    }
   ],
   "source": [
    "def jaccard_index(graph: nx.Graph, author,authors) -> List[str]:\n",
    "    \"\"\"\n",
    "    Return list of authors who have a common neighbor as \n",
    "    given author sorted by Jaccard Index (see pdf for equation) \n",
    "    \n",
    "    :param graph: collaboration graph in nextworkX, author: given author to find it's common neighbors; authors:list of authors\n",
    "    :return: list of new collaborators' name to recommend\n",
    "    \"\"\"\n",
    "    edges_list=nx.to_dict_of_lists(graph)                       #convert the nx graph to dict to get the edges\n",
    "    # print(len(edges_list))\n",
    "    # print(edges_list[author])\n",
    "    collarborators=np.array(edges_list[author])                 #find the exist collaborators fo the given author\n",
    "    jaccard_index_list=[]\n",
    "    other_authors=[]\n",
    "    # print(len(authors))\n",
    "    for i in authors:                                               #delete the author and his collaborators from the author list\n",
    "        if(i != author and i not in collarborators):\n",
    "            other_authors.append(i)\n",
    "    # print(len(other_authors))\n",
    "    # print(other_authors[0])   \n",
    "    for i in other_authors:                                         #count the intersection for the set of neighbors of the author and the set of neighbors for each other authors\n",
    "        count=0         \n",
    "        for j in collarborators:\n",
    "            if(j in np.array(edges_list[i])):\n",
    "                count=count+1\n",
    "        jaccard_index_list.append(count/(len(collarborators)+len(np.array(edges_list[i]))-count))   #use the length of the set of neighbors of the author and the set of neighbors\n",
    "                                                                                                    #minus the intersection to get the unions of those sets and sort it in a list\n",
    "    other_author_df=pd.DataFrame()                                          # create a new df to store the authors and their recommendation score\n",
    "    other_author_df['author']=other_authors\n",
    "    other_author_df['recommendation']=jaccard_index_list\n",
    "    other_author_df.sort_values(by=\"recommendation\" , inplace=True, ascending=False)            #sort it with descending order\n",
    "    sorted_authors=list(other_author_df['author'])\n",
    "    # print(len(sorted_authors))\n",
    "    return sorted_authors\n",
    "\n",
    "jaccard_index_collaborators=jaccard_index(graph=old_graph,author='Aaditya Ramdas',authors=old_graph_authors)\n",
    "print(jaccard_index_collaborators[:10])"
   ]
  },
  {
   "cell_type": "markdown",
   "id": "fe581fd8",
   "metadata": {},
   "source": [
    "e)  [5 pts.] **Make recommendations using Adamic/Adar Index**\n",
    "\n",
    "For part (c), we made recommendations using common neighbors. However, when assigning a score to Y , instead of just taking a count of the number of common neighbors, we take a weighted sum of them, where the weight of each common neighbor of X and Y , call her Z, is the inverse of the logarithm of the number of Z’s neighbors. In that way, we value more common neighbors that are more selective."
   ]
  },
  {
   "cell_type": "code",
   "execution_count": 16,
   "id": "0619deba",
   "metadata": {},
   "outputs": [
    {
     "name": "stdout",
     "output_type": "stream",
     "text": [
      "['Yuhuai Wu', 'Ryan P. Adams', 'Devon R. Hjelm', 'Nebojsa Jojic', 'Vince D. Calhoun', 'Çaglar Gülçehre', 'Koray Kavukcuoglu', 'Geoffrey E. Hinton', 'Brendan J. Frey', 'Zhouhan Lin']\n"
     ]
    }
   ],
   "source": [
    "import math\n",
    "def adamic_adar_index(graph: nx.Graph, author,authors) -> List[str]:\n",
    "    \"\"\"\n",
    "    Return list of recommendations of a given author sorted \n",
    "    by Adamic / Adar Index (see pdf for equation) \n",
    "    \n",
    "    :param graph: collaboration graph in nextworkX, author: given author to find it's common neighbors; authors:list of authors\n",
    "    :return: list of new collaborators' name to recommend\n",
    "    \"\"\"\n",
    "    edges_list=nx.to_dict_of_lists(graph)                       #convert the nx graph to dict to get the edges\n",
    "    # print(len(edges_list))\n",
    "    # print(edges_list[author])\n",
    "    collarborators=np.array(edges_list[author])                 #find the exist collaborators fo the given author\n",
    "    adamic_adar_index_list=[]\n",
    "    other_authors=[]\n",
    "    # print(len(authors))\n",
    "    for i in authors:                                               #delete the author and his collaborators from the author list\n",
    "        if(i != author and i not in collarborators):\n",
    "            other_authors.append(i)\n",
    "    # print(len(other_authors))\n",
    "    # print(other_authors[0])   \n",
    "    for i in other_authors:                                         #count the score for each other_author\n",
    "        count=0         \n",
    "        for j in collarborators:\n",
    "            if(j in np.array(edges_list[i])):                                              #use math.log(,base) for log calculation\n",
    "                count=count+1/math.log((len(np.array(edges_list[j]))),10)               #use the cummulative sum of 1/length of log(number of neibors) as the score\n",
    "        adamic_adar_index_list.append(count) \n",
    "    # print(adamic_adar_index_list)\n",
    "    other_author_df=pd.DataFrame()                                          # create a new df to store the authors and their recommendation score\n",
    "    other_author_df['author']=other_authors\n",
    "    other_author_df['recommendation']=adamic_adar_index_list\n",
    "    other_author_df.sort_values(by=\"recommendation\" , inplace=True, ascending=False)            #sort it with descending order\n",
    "    sorted_authors=list(other_author_df['author'])\n",
    "    # print(other_author_df)\n",
    "    return sorted_authors\n",
    "adamic_adar_index_collaborators=adamic_adar_index(graph=old_graph,author='Aaron C. Courville',authors=old_graph_authors)\n",
    "print(adamic_adar_index_collaborators[:10])"
   ]
  },
  {
   "cell_type": "markdown",
   "id": "3bae7a98",
   "metadata": {},
   "source": [
    "f) [4 pts.] **How good are the recommendations we make?** \n",
    "\n",
    "Previously, you implemented 3 functions, that given a user X provide recommendations for this user. In this task, you will check how good these recommendations are using the actual new connections formed during 2017-2018.\n",
    "\n",
    "You will use two different ways, to calculate the efficiency of every approach:\n",
    "\n",
    "- For each user X, take the 10 first recommendations for this user, and calculate the number of them that were actually formed during 2017-2018. You should report the average among users X.\n",
    "\n",
    "- For each newly formed collaboration of user X, calculate the rank of this collaboration (the index where this new node Y appears in the recommendations list for X). Report the average among newly formed edges."
   ]
  },
  {
   "cell_type": "code",
   "execution_count": 9,
   "id": "afe20673",
   "metadata": {},
   "outputs": [
    {
     "name": "stdout",
     "output_type": "stream",
     "text": [
      "41\n",
      "Aaron C. Courville\n"
     ]
    }
   ],
   "source": [
    "new_edges_list=nx.to_dict_of_lists(new_graph)       #find the authors that made at least 10 new connections\n",
    "new_authors=[]\n",
    "for i in new_graph_authors:\n",
    "    if(len(np.array(new_edges_list[i]))>=10):\n",
    "        new_authors.append(i)\n",
    "print(len(new_authors))\n",
    "print(new_authors[0])"
   ]
  },
  {
   "cell_type": "code",
   "execution_count": 20,
   "id": "1f03a262",
   "metadata": {},
   "outputs": [
    {
     "name": "stdout",
     "output_type": "stream",
     "text": [
      "0.5141463414634145\n",
      "0.5241463414634147\n",
      "0.5182926829268293\n",
      "39.63414634146341\n",
      "39.63414634146341\n",
      "39.63414634146341\n"
     ]
    }
   ],
   "source": [
    "def top_k_recommendation_accuracy(graph: nx.Graph, index_method: Callable, authors) -> float:\n",
    "    \"\"\"\n",
    "    Among top k recommendations of every user, return average number \n",
    "    of recommendations that becomes reality\n",
    "    \n",
    "    :param graph: collaboration graph in nextworkX\n",
    "    :param index_method: function that is used to make recommendation\n",
    "    :param authors：list of authors\n",
    "    :return: average accuracy of predictions among all users\n",
    "    \"\"\"\n",
    "    new_edges_list=nx.to_dict_of_lists(new_graph)                         #get the edge list of the new graph which  is the one in the new_edges file\n",
    "    # print(new_edges_list['Adam Coates'])\n",
    "    count=0                                                             #set the counters for recording \n",
    "    score=0\n",
    "    for i in range(len(authors)):                                                               #run the index_method for each author in the authors list\n",
    "        predicted_collaborators=index_method(graph=graph,author=authors[i],authors=authors)        #get the prediction collaborator list \n",
    "        # print(authors[i])\n",
    "        # print(predicted_collaborators[:10])\n",
    "        # print(new_edges_list[authors[i]])\n",
    "        new_edges=np.array(new_edges_list[authors[i]])                                                  \n",
    "        for j in range(10):                                                                     #check the top 10 collaborators\n",
    "            for k in range(len(new_edges)):                                                     #count the number of similarities \n",
    "                if(predicted_collaborators[j] == new_edges[k]):\n",
    "                    count=count+1    \n",
    "        score=score+count/10                                                                    #count the total number of similarities\n",
    "    # print(count)\n",
    "    average=score/len(authors)                                                                  #count the average accurate number for each author\n",
    "    accuracy=average/10                                                                         #change it to accuracy\n",
    "    return accuracy\n",
    "average_accuracy_common_friends_number=top_k_recommendation_accuracy(graph=old_graph,index_method=common_friends_number,authors=new_authors)    \n",
    "print(average_accuracy_common_friends_number)\n",
    "average_accuracy_jaccard_index=top_k_recommendation_accuracy(graph=old_graph,index_method=jaccard_index,authors=new_authors)\n",
    "print(average_accuracy_jaccard_index)\n",
    "average_accuracy_adamic_adar_index=top_k_recommendation_accuracy(graph=old_graph,index_method=adamic_adar_index,authors=new_authors)\n",
    "print(average_accuracy_adamic_adar_index)\n",
    "    \n",
    "    \n",
    "def new_collaboration_rank(graph: nx.Graph, index_method: Callable, authors) -> float:\n",
    "    \"\"\"\n",
    "    Among the new collaborations of every user, return average rank \n",
    "    of the collaboration calculated by the function\n",
    "    \n",
    "    :param graph: collaboration graph in nextworkX\n",
    "    :param index_method: function that is used to make recommendation\n",
    "    :param authors：list of authors\n",
    "    :return: average rank of predictions among all users\n",
    "    \"\"\"\n",
    "    new_edges_list=nx.to_dict_of_lists(new_graph)                      #get the edge list of the new graph which  is the one in the new_edges file\n",
    "    total_average_rank=0\n",
    "    for i in authors:                                                                         #run the index_method for each author in the authors lis\n",
    "        predicted_collaborators=index_method(graph=graph,author=i,authors=authors)          #get the prediction collaborator list \n",
    "        # print(len(predicted_collaborators))\n",
    "        new_edges=np.array(new_edges_list[i]) \n",
    "        total_rank=0                                                 \n",
    "        for k in range(len(new_edges)):                                         #go through the actual collaborators list                                      \n",
    "            for j in range(len(predicted_collaborators)):                       # find the rank of the actual collaborators in predicted recommendation collaborator list\n",
    "                if(j>10):                                                       # if  not in the top 10 of predicted recommendation collaborator list\n",
    "                    rank=len(predicted_collaborators)+1                         #set the rank to length of recommendation list+1\n",
    "                else:                                                      \n",
    "                    if(predicted_collaborators[j] == new_edges[k]):\n",
    "                        rank=j\n",
    "            total_rank=total_rank+rank                                          # store the total rank for each actual collaborator\n",
    "        # print(total_average_rank)\n",
    "        average_rank=total_rank/len(new_edges)                                  #find the average rank for each actual collaborator\n",
    "        total_average_rank=total_average_rank+average_rank                      #add it to total rank for every author\n",
    "    total_average_rank=total_average_rank/len(authors)                             # used the cummulative sum of total rank / number of authors to find the average rank of collaborators for each aurthor\n",
    "    return total_average_rank\n",
    "average_rank_common_friends_number=new_collaboration_rank(graph=old_graph,index_method=common_friends_number,authors=new_authors)    \n",
    "print(average_rank_common_friends_number)\n",
    "average_rank_jaccard_index=new_collaboration_rank(graph=old_graph,index_method=jaccard_index,authors=new_authors)    \n",
    "print(average_rank_jaccard_index)\n",
    "average_rank_adamic_adar_index=new_collaboration_rank(graph=old_graph,index_method=adamic_adar_index,authors=new_authors)    \n",
    "print(average_rank_adamic_adar_index)\n",
    "    "
   ]
  },
  {
   "cell_type": "markdown",
   "id": "bc1d3ddf",
   "metadata": {},
   "source": [
    "e) [**Bonus Question**] [2 pts.]\n",
    "Doing some literature search, suggest your own algorithm for recommend- ing new links to a user X. Argue about the choice you make, why it makes sense to suggest users that way? How is the efficiency of this algorithm, compared to the ones you implemented in parts (c), (d) and (e)?"
   ]
  },
  {
   "cell_type": "code",
   "execution_count": 15,
   "id": "21d62990",
   "metadata": {},
   "outputs": [
    {
     "name": "stdout",
     "output_type": "stream",
     "text": [
      "['Mengye Ren', 'Devon R. Hjelm', 'Zhouhan Lin', 'Tong Che', 'Yuhuai Wu', 'Jan Chorowski', 'Dmitriy Serdyuk', 'Dzmitry Bahdanau', 'Vince D. Calhoun', 'Çaglar Gülçehre']\n"
     ]
    }
   ],
   "source": [
    "def pearson(p,q):                           #helper function for calculating the score\n",
    "    same = 0\n",
    "    for i in p:\n",
    "        if i in q:\n",
    "            same +=1\n",
    "    n = same\n",
    "    if(n==0):                                           #just return zero if no same are found\n",
    "        return 0\n",
    "    else:\n",
    "        sumx = len(p)\n",
    "        sumy = len(q)\n",
    "        sumxsq = len(p)**2\n",
    "        sumysq = len(q)**2\n",
    "        sumxy = len(p)*len(q)\n",
    "        up = sumxy - sumx*sumy/n                                    #calculate the pearson index\n",
    "        down = ((sumxsq - pow(sumxsq,2)/n)*(sumysq - pow(sumysq,2)/n))**.5\n",
    "        if down == 0 :return 0\n",
    "        r = up/down\n",
    "        return r\n",
    "def pearson_index(graph: nx.Graph, author,authors) -> List[str]:\n",
    "    \"\"\"\n",
    "    Return list of recommendations of a given author sorted \n",
    "    by pearson index\n",
    "    \n",
    "    :param graph: collaboration graph in nextworkX, author: given author to find it's common neighbors; authors:list of authors\n",
    "    :return: list of new collaborators' name to recommend\n",
    "    \"\"\"\n",
    "    edges_list=nx.to_dict_of_lists(graph)                       #convert the nx graph to dict to get the edges\n",
    "    # print(len(edges_list))\n",
    "    # print(edges_list[author])\n",
    "    collarborators=np.array(edges_list[author])                 #find the exist collaborators fo the given author\n",
    "    pearson_index_list=[]\n",
    "    other_authors=[]\n",
    "    # print(len(authors))\n",
    "    for i in authors:                                               #delete the author and his collaborators from the author list\n",
    "        if(i != author and i not in collarborators):\n",
    "            other_authors.append(i)\n",
    "    # print(len(other_authors))\n",
    "    # print(other_authors[0])   \n",
    "    for i in other_authors:                                         #count the score for each other_author        \n",
    "        other_author_edge_list=edges_list[i]\n",
    "        score=pearson(other_author_edge_list,collarborators)      \n",
    "        pearson_index_list.append(score) \n",
    "    # print(pearson_index_list)\n",
    "    other_author_df=pd.DataFrame()                                          # create a new df to store the authors and their recommendation score\n",
    "    other_author_df['author']=other_authors\n",
    "    other_author_df['recommendation']=pearson_index_list\n",
    "    other_author_df.sort_values(by=\"recommendation\" , inplace=True, ascending=False)            #sort it with descending order\n",
    "    sorted_authors=list(other_author_df['author'])\n",
    "    # print(other_author_df)\n",
    "    return sorted_authors\n",
    "pearson_index_collaborators=pearson_index(graph=old_graph,author='Aaron C. Courville',authors=old_graph_authors)\n",
    "print(pearson_index_collaborators[:10])\n",
    "# average_accuracy_pearson_index=top_k_recommendation_accuracy(graph=old_graph,index_method=pearson_index,authors=new_authors)    \n",
    "# print(average_accuracy_pearson_index)\n",
    "# average_rank_pearson_index=new_collaboration_rank(graph=old_graph,index_method=pearson_index,authors=new_authors)    \n",
    "# print(average_rank_pearson_index)\n",
    "\n",
    "#Although the accuracy is not as good as what we did in c,d,e, however, pearson correlation coefficient has its advantage when the data is in high dimention\n",
    "#The running time of this algorithm is similar to the ones in c,d,e, which results in no improvement of running time\n"
   ]
  }
 ],
 "metadata": {
  "kernelspec": {
   "display_name": "Python 3",
   "language": "python",
   "name": "python3"
  },
  "language_info": {
   "codemirror_mode": {
    "name": "ipython",
    "version": 3
   },
   "file_extension": ".py",
   "mimetype": "text/x-python",
   "name": "python",
   "nbconvert_exporter": "python",
   "pygments_lexer": "ipython3",
   "version": "3.9.4"
  }
 },
 "nbformat": 4,
 "nbformat_minor": 5
}
